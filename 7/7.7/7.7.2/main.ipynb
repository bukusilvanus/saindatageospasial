{
 "cells": [
  {
   "cell_type": "code",
   "execution_count": 6,
   "metadata": {},
   "outputs": [],
   "source": [
    "import geopandas as gpd\n",
    "gdf = gpd.read_file('data.geojson')"
   ]
  },
  {
   "cell_type": "code",
   "execution_count": 7,
   "metadata": {},
   "outputs": [
    {
     "name": "stdout",
     "output_type": "stream",
     "text": [
      "                                  precision    recall  f1-score   support\n",
      "\n",
      "Dryopteris filix-mas (L.) Schott       0.60      0.34      0.43        98\n",
      "       Roemeria hybrida (L.) DC.       0.00      0.00      0.00         5\n",
      "                Taxus baccata L.       0.51      0.76      0.61        97\n",
      "\n",
      "                        accuracy                           0.54       200\n",
      "                       macro avg       0.37      0.37      0.35       200\n",
      "                    weighted avg       0.54      0.54      0.51       200\n",
      "\n"
     ]
    }
   ],
   "source": [
    "from sklearn.ensemble import RandomForestClassifier\n",
    "from sklearn.model_selection import train_test_split\n",
    "from sklearn.metrics import classification_report\n",
    "\n",
    "# Mengonversi data geospasial menjadi fitur numerik (misalnya koordinat, zona, dll.)\n",
    "X = gdf[['longitude', 'latitude']] # Fitur\n",
    "y = gdf['species'] # Label kelas\n",
    "\n",
    "# Membagi data menjadi train dan test\n",
    "X_train, X_test, y_train, y_test = train_test_split(X, y, test_size=0.2, random_state=42)\n",
    "\n",
    "# Inisialisasi dan latih model Random Forest\n",
    "model = RandomForestClassifier()\n",
    "model.fit(X_train, y_train)\n",
    "\n",
    "# Prediksi hasil pada data test\n",
    "y_pred = model.predict(X_test)\n",
    "\n",
    "# Evaluasi model\n",
    "print(classification_report(y_test, y_pred))"
   ]
  }
 ],
 "metadata": {
  "kernelspec": {
   "display_name": "bukusilvanus",
   "language": "python",
   "name": "python3"
  },
  "language_info": {
   "codemirror_mode": {
    "name": "ipython",
    "version": 3
   },
   "file_extension": ".py",
   "mimetype": "text/x-python",
   "name": "python",
   "nbconvert_exporter": "python",
   "pygments_lexer": "ipython3",
   "version": "3.11.11"
  }
 },
 "nbformat": 4,
 "nbformat_minor": 2
}
