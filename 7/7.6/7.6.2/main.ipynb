{
 "cells": [
  {
   "cell_type": "code",
   "execution_count": 3,
   "metadata": {},
   "outputs": [
    {
     "name": "stdout",
     "output_type": "stream",
     "text": [
      "Downloading data from https://storage.googleapis.com/tensorflow/tf-keras-datasets/mnist.npz\n",
      "11490434/11490434 [==============================] - 2s 0us/step\n"
     ]
    }
   ],
   "source": [
    "from tensorflow.keras.models import Sequential\n",
    "from tensorflow.keras.layers import Dense\n",
    "from tensorflow.keras.optimizers import Adam\n",
    "from tensorflow.keras.datasets import mnist\n",
    "\n",
    "(X_train, _), (_, _) = mnist.load_data()\n",
    "X_train = X_train.astype('float32') / 255.0\n",
    "X_train = X_train.reshape(-1, 28 * 28)\n",
    "\n",
    "random_dim = 100\n",
    "img_dim = 28 * 28\n",
    "batch_size = 128\n",
    "\n",
    "# Generator Model\n",
    "generator = Sequential([\n",
    "    Dense(256, activation='relu', input_dim=random_dim),\n",
    "    Dense(512, activation='relu'),\n",
    "    Dense(1024, activation='relu'),\n",
    "    Dense(img_dim, activation='sigmoid')  # Output matches the flattened image\n",
    "])\n",
    "\n",
    "# Discriminator Model\n",
    "discriminator = Sequential([\n",
    "    Dense(1024, activation='relu', input_dim=img_dim),\n",
    "    Dense(512, activation='relu'),\n",
    "    Dense(256, activation='relu'),\n",
    "    Dense(1, activation='sigmoid')  # Output is a single probability (real or fake)\n",
    "])\n",
    "\n",
    "# Compile Discriminator\n",
    "discriminator.compile(optimizer=Adam(learning_rate=0.0002, beta_1=0.5), loss='binary_crossentropy', metrics=['accuracy'])\n",
    "discriminator.trainable = False\n",
    "\n",
    "# GAN Model (Generator + Discriminator)\n",
    "gan = Sequential([generator, discriminator])\n",
    "gan.compile(optimizer=Adam(learning_rate=0.0002, beta_1=0.5), loss='binary_crossentropy')\n"
   ]
  },
  {
   "cell_type": "code",
   "execution_count": 5,
   "metadata": {},
   "outputs": [
    {
     "name": "stdout",
     "output_type": "stream",
     "text": [
      "Epoch 1/10\n",
      "3/3 [==============================] - 1s 9ms/step - loss: 0.2153\n",
      "Epoch 2/10\n",
      "3/3 [==============================] - 0s 8ms/step - loss: 0.1917\n",
      "Epoch 3/10\n",
      "3/3 [==============================] - 0s 8ms/step - loss: 0.1653\n",
      "Epoch 4/10\n",
      "3/3 [==============================] - 0s 7ms/step - loss: 0.1441\n",
      "Epoch 5/10\n",
      "3/3 [==============================] - 0s 8ms/step - loss: 0.1236\n",
      "Epoch 6/10\n",
      "3/3 [==============================] - 0s 8ms/step - loss: 0.1081\n",
      "Epoch 7/10\n",
      "3/3 [==============================] - 0s 6ms/step - loss: 0.1040\n",
      "Epoch 8/10\n",
      "3/3 [==============================] - 0s 6ms/step - loss: 0.1026\n",
      "Epoch 9/10\n",
      "3/3 [==============================] - 0s 7ms/step - loss: 0.1061\n",
      "Epoch 10/10\n",
      "3/3 [==============================] - 0s 8ms/step - loss: 0.1062\n"
     ]
    },
    {
     "data": {
      "text/plain": [
       "<keras.src.callbacks.History at 0x7fc3400cadc0>"
      ]
     },
     "execution_count": 5,
     "metadata": {},
     "output_type": "execute_result"
    }
   ],
   "source": [
    "import pandas as pd\n",
    "import numpy as np\n",
    "from sklearn.model_selection import train_test_split\n",
    "from sklearn.preprocessing import MinMaxScaler\n",
    "from tensorflow.keras.models import Sequential\n",
    "from tensorflow.keras.layers import LSTM, Dense\n",
    "\n",
    "data = pd.read_csv('ndvi.csv')\n",
    "scaler = MinMaxScaler(feature_range=(0, 1))\n",
    "data['value'] = scaler.fit_transform(data['value'].values.reshape(-1, 1))\n",
    "\n",
    "def create_sequences(data, timesteps):\n",
    "    X, y = [], []\n",
    "    for i in range(len(data) - timesteps):\n",
    "        X.append(data[i:i+timesteps])  # Previous timesteps\n",
    "        y.append(data[i+timesteps])   # Target: next value\n",
    "    return np.array(X), np.array(y)\n",
    "\n",
    "timesteps = 10\n",
    "values = data['value'].values\n",
    "X, y = create_sequences(values, timesteps)\n",
    "\n",
    "X_train, X_test, y_train, y_test = train_test_split(X, y, test_size=0.2, random_state=42)\n",
    "X_train = X_train.reshape((X_train.shape[0], X_train.shape[1], 1))\n",
    "X_test = X_test.reshape((X_test.shape[0], X_test.shape[1], 1))\n",
    "\n",
    "model = Sequential([\n",
    "    LSTM(50, activation='relu', input_shape=(X_train.shape[1], 1)),\n",
    "    Dense(1)\n",
    "])\n",
    "\n",
    "model.compile(optimizer='adam', loss='mean_squared_error')\n",
    "model.fit(X_train, y_train, epochs=10, batch_size=32)"
   ]
  }
 ],
 "metadata": {
  "kernelspec": {
   "display_name": "bukusilvanus",
   "language": "python",
   "name": "python3"
  },
  "language_info": {
   "codemirror_mode": {
    "name": "ipython",
    "version": 3
   },
   "file_extension": ".py",
   "mimetype": "text/x-python",
   "name": "python",
   "nbconvert_exporter": "python",
   "pygments_lexer": "ipython3",
   "version": "3.8.20"
  }
 },
 "nbformat": 4,
 "nbformat_minor": 2
}
