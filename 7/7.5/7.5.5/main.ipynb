{
 "cells": [
  {
   "cell_type": "markdown",
   "metadata": {},
   "source": [
    "## 7.5.5.1"
   ]
  },
  {
   "cell_type": "code",
   "execution_count": 2,
   "metadata": {},
   "outputs": [
    {
     "name": "stdout",
     "output_type": "stream",
     "text": [
      "Label Kluster: [0 0 0 2 2 1]\n"
     ]
    }
   ],
   "source": [
    "from sklearn.cluster import KMeans\n",
    "import numpy as np\n",
    "\n",
    "X = np.array([[1, 2], [1, 3], [2, 3], [8, 9], [8, 10], [25, 30]])\n",
    "model = KMeans(n_clusters=3)\n",
    "model.fit(X)\n",
    "y_pred = model.predict(X)\n",
    "print(\"Label Kluster:\", y_pred)"
   ]
  },
  {
   "cell_type": "markdown",
   "metadata": {},
   "source": [
    "## 7.5.5.2"
   ]
  },
  {
   "cell_type": "code",
   "execution_count": 7,
   "metadata": {},
   "outputs": [
    {
     "name": "stdout",
     "output_type": "stream",
     "text": [
      "Label Kluster: [0 0 0 1 2 2]\n"
     ]
    }
   ],
   "source": [
    "from sklearn_extra.cluster import KMedoids\n",
    "import numpy as np\n",
    "\n",
    "X = np.array([[1, 2], [1, 3], [2, 3], [8, 9], [8, 10], [25, 30]]) \n",
    "model = KMedoids(n_clusters=3) \n",
    "model.fit(X) \n",
    "y_pred = model.predict(X) \n",
    "print(\"Label Kluster:\", y_pred) "
   ]
  },
  {
   "cell_type": "markdown",
   "metadata": {},
   "source": [
    "## 7.5.5.3"
   ]
  },
  {
   "cell_type": "code",
   "execution_count": 6,
   "metadata": {},
   "outputs": [
    {
     "name": "stdout",
     "output_type": "stream",
     "text": [
      "Label Kluster: [0 0 0 2 2 1]\n"
     ]
    }
   ],
   "source": [
    "from sklearn.cluster import AgglomerativeClustering\n",
    "import numpy as np\n",
    "\n",
    "X = np.array([[1, 2], [1, 3], [2, 3], [8, 9], [8, 10], [25, 30]])\n",
    "model = AgglomerativeClustering(n_clusters=3)\n",
    "y_pred = model.fit_predict(X)\n",
    "print(\"Label Kluster:\", y_pred)"
   ]
  },
  {
   "cell_type": "markdown",
   "metadata": {},
   "source": [
    "## 7.5.5.4"
   ]
  },
  {
   "cell_type": "code",
   "execution_count": 8,
   "metadata": {},
   "outputs": [
    {
     "name": "stdout",
     "output_type": "stream",
     "text": [
      "Label Kluster: [ 0  0  0  1  1 -1]\n"
     ]
    }
   ],
   "source": [
    "from sklearn.cluster import DBSCAN \n",
    "import numpy as np \n",
    "\n",
    "X = np.array([[1, 2], [1, 3], [2, 3], [8, 9], [8, 10], [25, 30]]) \n",
    "model = DBSCAN(eps=3, min_samples=2) \n",
    "y_pred = model.fit_predict(X) \n",
    "print(\"Label Kluster:\", y_pred) "
   ]
  },
  {
   "cell_type": "markdown",
   "metadata": {},
   "source": [
    "## 7.5.5.5"
   ]
  },
  {
   "cell_type": "code",
   "execution_count": 9,
   "metadata": {},
   "outputs": [
    {
     "name": "stdout",
     "output_type": "stream",
     "text": [
      "Label Kluster: [0 0 0 2 2 1]\n"
     ]
    }
   ],
   "source": [
    "from sklearn.mixture import GaussianMixture \n",
    "import numpy as np \n",
    "\n",
    "X = np.array([[1, 2], [1, 3], [2, 3], [8, 9], [8, 10], [25, 30]]) \n",
    "model = GaussianMixture(n_components=3) \n",
    "model.fit(X) \n",
    "y_pred = model.predict(X) \n",
    "print(\"Label Kluster:\", y_pred) "
   ]
  },
  {
   "cell_type": "markdown",
   "metadata": {},
   "source": [
    "## 7.5.5.6"
   ]
  },
  {
   "cell_type": "code",
   "execution_count": 11,
   "metadata": {},
   "outputs": [
    {
     "name": "stdout",
     "output_type": "stream",
     "text": [
      "Label Kluster: [[2 2]\n",
      " [2 2]\n",
      " [2 2]\n",
      " [1 1]\n",
      " [1 1]\n",
      " [0 0]]\n"
     ]
    }
   ],
   "source": [
    "from minisom import MiniSom \n",
    "import numpy as np \n",
    "\n",
    "X = np.array([[1, 2], [1, 3], [2, 3], [8, 9], [8, 10], [25, 30]]) \n",
    "som = MiniSom(3, 3, 2)\n",
    "som.train(X, 100) \n",
    "y_pred = np.array([som.winner(x) for x in X]) \n",
    "print(\"Label Kluster:\", y_pred) "
   ]
  },
  {
   "cell_type": "markdown",
   "metadata": {},
   "source": [
    "## 7.5.5.7"
   ]
  },
  {
   "cell_type": "code",
   "execution_count": 12,
   "metadata": {},
   "outputs": [
    {
     "name": "stdout",
     "output_type": "stream",
     "text": [
      "Label Kluster: [0 0 0 2 2 1]\n"
     ]
    }
   ],
   "source": [
    "from sklearn.cluster import AgglomerativeClustering\n",
    "import numpy as np\n",
    "\n",
    "X = np.array([[1, 2], [1, 3], [2, 3], [8, 9], [8, 10], [25, 30]]) \n",
    "model = AgglomerativeClustering(n_clusters=3)\n",
    "y_pred = model.fit_predict(X)\n",
    "print(\"Label Kluster:\", y_pred)"
   ]
  },
  {
   "cell_type": "markdown",
   "metadata": {},
   "source": [
    "## 7.5.5.8"
   ]
  },
  {
   "cell_type": "code",
   "execution_count": null,
   "metadata": {},
   "outputs": [
    {
     "name": "stdout",
     "output_type": "stream",
     "text": [
      "Label Kluster: [0 0 0 1 0 2]\n"
     ]
    }
   ],
   "source": [
    "from sklearn.cluster import SpectralClustering\n",
    "import numpy as np\n",
    "\n",
    "X = np.array([[1, 2], [1, 3], [2, 3], [8, 9], [8, 10], [25, 30]])\n",
    "model = SpectralClustering(n_clusters=3, affinity='nearest_neighbors', n_neighbors=5)\n",
    "y_pred = model.fit_predict(X)\n",
    "print(\"Label Kluster:\", y_pred)"
   ]
  },
  {
   "cell_type": "markdown",
   "metadata": {},
   "source": [
    "## 7.5.5.9"
   ]
  },
  {
   "cell_type": "code",
   "execution_count": 16,
   "metadata": {},
   "outputs": [
    {
     "name": "stdout",
     "output_type": "stream",
     "text": [
      "Silhouette Score: 0.7386524908306763\n"
     ]
    }
   ],
   "source": [
    "from sklearn.metrics import silhouette_score \n",
    "from sklearn.cluster import KMeans \n",
    "import numpy as np \n",
    "\n",
    "X = np.array([[1, 2], [1, 3], [2, 3], [8, 9], [8, 10], [25, 30]]) \n",
    "model = KMeans(n_clusters=3) \n",
    "y_pred = model.fit_predict(X) \n",
    "score = silhouette_score(X, y_pred) \n",
    "print(\"Silhouette Score:\", score) "
   ]
  },
  {
   "cell_type": "code",
   "execution_count": 17,
   "metadata": {},
   "outputs": [
    {
     "name": "stdout",
     "output_type": "stream",
     "text": [
      "Davis-Bouldin Index: 0.08684747928852864\n"
     ]
    }
   ],
   "source": [
    "from sklearn.metrics import davies_bouldin_score \n",
    "from sklearn.cluster import KMeans \n",
    "import numpy as np \n",
    "\n",
    "X = np.array([[1, 2], [1, 3], [2, 3], [8, 9], [8, 10], [25, 30]]) \n",
    "model = KMeans(n_clusters=3) \n",
    "y_pred = model.fit_predict(X) \n",
    "dbi = davies_bouldin_score(X, y_pred) \n",
    "print(\"Davis-Bouldin Index:\", dbi) "
   ]
  },
  {
   "cell_type": "code",
   "execution_count": 18,
   "metadata": {},
   "outputs": [
    {
     "name": "stdout",
     "output_type": "stream",
     "text": [
      "Inertia: 1.8333333333333335\n"
     ]
    }
   ],
   "source": [
    "from sklearn.cluster import KMeans \n",
    "import numpy as np \n",
    "\n",
    "X = np.array([[1, 2], [1, 3], [2, 3], [8, 9], [8, 10], [25, 30]]) \n",
    "model = KMeans(n_clusters=3) \n",
    "model.fit(X) \n",
    "inertia = model.inertia_ \n",
    "print(\"Inertia:\", inertia) "
   ]
  },
  {
   "cell_type": "code",
   "execution_count": 19,
   "metadata": {},
   "outputs": [
    {
     "name": "stdout",
     "output_type": "stream",
     "text": [
      "Adjusted Rand Index: 1.0\n"
     ]
    }
   ],
   "source": [
    "from sklearn.metrics import adjusted_rand_score \n",
    "from sklearn.cluster import KMeans \n",
    "import numpy as np \n",
    "\n",
    "X = np.array([[1, 2], [1, 3], [2, 3], [8, 9], [8, 10], [25, 30]]) \n",
    "y_true = [0, 0, 0, 1, 1, 2]\n",
    "model = KMeans(n_clusters=3) \n",
    "y_pred = model.fit_predict(X) \n",
    "ari = adjusted_rand_score(y_true, y_pred) \n",
    "print(\"Adjusted Rand Index:\", ari) "
   ]
  },
  {
   "cell_type": "code",
   "execution_count": 20,
   "metadata": {},
   "outputs": [
    {
     "name": "stdout",
     "output_type": "stream",
     "text": [
      "Normalized Mutual Information: 1.0\n"
     ]
    }
   ],
   "source": [
    "from sklearn.metrics import normalized_mutual_info_score \n",
    "from sklearn.cluster import KMeans \n",
    "import numpy as np \n",
    "\n",
    "X = np.array([[1, 2], [1, 3], [2, 3], [8, 9], [8, 10], [25, 30]]) \n",
    "y_true = [0, 0, 0, 1, 1, 2]\n",
    "model = KMeans(n_clusters=3) \n",
    "y_pred = model.fit_predict(X) \n",
    "nmi = normalized_mutual_info_score(y_true, y_pred) \n",
    "print(\"Normalized Mutual Information:\", nmi) "
   ]
  },
  {
   "cell_type": "code",
   "execution_count": 21,
   "metadata": {},
   "outputs": [
    {
     "name": "stdout",
     "output_type": "stream",
     "text": [
      "V-Measure: 1.0\n"
     ]
    }
   ],
   "source": [
    "from sklearn.metrics import v_measure_score \n",
    "from sklearn.cluster import KMeans \n",
    "import numpy as np \n",
    "\n",
    "X = np.array([[1, 2], [1, 3], [2, 3], [8, 9], [8, 10], [25, 30]]) \n",
    "y_true = [0, 0, 0, 1, 1, 2]  # Label asli \n",
    "model = KMeans(n_clusters=3) \n",
    "y_pred = model.fit_predict(X) \n",
    "v_measure = v_measure_score(y_true, y_pred) \n",
    "print(\"V-Measure:\", v_measure) "
   ]
  },
  {
   "cell_type": "markdown",
   "metadata": {},
   "source": [
    "## 7.5.5.10"
   ]
  },
  {
   "cell_type": "code",
   "execution_count": 22,
   "metadata": {},
   "outputs": [
    {
     "data": {
      "image/png": "[encoded data removed]",
      "text/plain": [
       "<Figure size 640x480 with 1 Axes>"
      ]
     },
     "metadata": {},
     "output_type": "display_data"
    }
   ],
   "source": [
    "import matplotlib.pyplot as plt \n",
    "from sklearn.cluster import KMeans \n",
    "import numpy as np \n",
    "\n",
    "X = np.array([[1, 2], [1, 3], [2, 3], [8, 9], [8, 10], [25, 30]]) \n",
    "model = KMeans(n_clusters=3) \n",
    "y_pred = model.fit_predict(X) \n",
    "plt.scatter(X[:, 0], X[:, 1], c=y_pred, cmap='viridis') \n",
    "plt.title(\"Hasil Clustering dengan K-Means\") \n",
    "plt.xlabel(\"Fitur 1\") \n",
    "plt.ylabel(\"Fitur 2\") \n",
    "plt.show() "
   ]
  },
  {
   "cell_type": "code",
   "execution_count": null,
   "metadata": {},
   "outputs": [],
   "source": []
  }
 ],
 "metadata": {
  "kernelspec": {
   "display_name": "buku",
   "language": "python",
   "name": "python3"
  },
  "language_info": {
   "codemirror_mode": {
    "name": "ipython",
    "version": 3
   },
   "file_extension": ".py",
   "mimetype": "text/x-python",
   "name": "python",
   "nbconvert_exporter": "python",
   "pygments_lexer": "ipython3",
   "version": "3.13.1"
  }
 },
 "nbformat": 4,
 "nbformat_minor": 2
}
