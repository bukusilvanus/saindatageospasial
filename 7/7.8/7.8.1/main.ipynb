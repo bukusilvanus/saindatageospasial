{
 "cells": [
  {
   "cell_type": "code",
   "execution_count": 3,
   "metadata": {},
   "outputs": [
    {
     "name": "stdout",
     "output_type": "stream",
     "text": [
      "   price  promotion  day_of_week  day_of_week_2  day_of_week_3  demand\n",
      "0     10          0            1              0              0     100\n",
      "1     20          1            0              1              0      90\n",
      "2     30          0            1              0              1      80\n",
      "3     40          1            0              1              1      70\n",
      "4     50          0            1              0              0      60\n"
     ]
    }
   ],
   "source": [
    "import pandas as pd\n",
    "from sklearn.model_selection import train_test_split\n",
    "\n",
    "df = pd.DataFrame({\n",
    "    'price': [10, 20, 30, 40, 50, 60, 70, 80, 90, 100],\n",
    "    'promotion': [0, 1, 0, 1, 0, 1, 0, 1, 0, 1],\n",
    "    'day_of_week': [1, 0, 1, 0, 1, 0, 1, 0, 1, 0],\n",
    "    'day_of_week_2': [0, 1, 0, 1, 0, 1, 0, 1, 0, 1],\n",
    "    'day_of_week_3': [0, 0, 1, 1, 0, 0, 1, 1, 0, 0],\n",
    "    'demand': [100, 90, 80, 70, 60, 50, 40, 30, 20, 10]\n",
    "})\n",
    "print(df.head())\n",
    "\n",
    "df.fillna(df.mean(), inplace=True)\n",
    "df = pd.get_dummies(df, columns=['day_of_week'], drop_first=True)\n",
    "\n",
    "X = df[['price', 'promotion', 'day_of_week_2', 'day_of_week_3']] # Fitur\n",
    "y = df['demand'] # Target\n",
    "\n",
    "X_train, X_test, y_train, y_test = train_test_split(X, y, test_size=0.2, random_state=42)"
   ]
  },
  {
   "cell_type": "code",
   "execution_count": 4,
   "metadata": {},
   "outputs": [],
   "source": [
    "from sklearn.linear_model import LinearRegression\n",
    "model = LinearRegression()\n",
    "model.fit(X_train, y_train)\n",
    "y_pred = model.predict(X_test)"
   ]
  },
  {
   "cell_type": "code",
   "execution_count": 6,
   "metadata": {},
   "outputs": [
    {
     "name": "stdout",
     "output_type": "stream",
     "text": [
      "MAE: 0.0\n",
      "MSE: 0.0\n",
      "R²: 1.0\n"
     ]
    }
   ],
   "source": [
    "from sklearn.metrics import mean_absolute_error, mean_squared_error, r2_score\n",
    "print(f'MAE: {mean_absolute_error(y_test, y_pred)}')\n",
    "print(f'MSE: {mean_squared_error(y_test, y_pred)}')\n",
    "print(f'R²: {r2_score(y_test, y_pred)}')"
   ]
  }
 ],
 "metadata": {
  "kernelspec": {
   "display_name": "bukusilvanus",
   "language": "python",
   "name": "python3"
  },
  "language_info": {
   "codemirror_mode": {
    "name": "ipython",
    "version": 3
   },
   "file_extension": ".py",
   "mimetype": "text/x-python",
   "name": "python",
   "nbconvert_exporter": "python",
   "pygments_lexer": "ipython3",
   "version": "3.11.11"
  }
 },
 "nbformat": 4,
 "nbformat_minor": 2
}
