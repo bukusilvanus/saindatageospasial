{
 "cells": [
  {
   "cell_type": "code",
   "execution_count": 21,
   "metadata": {},
   "outputs": [
    {
     "name": "stdout",
     "output_type": "stream",
     "text": [
      "MAE: 8.994646216177095\n",
      "MSE: 154.356744434546\n",
      "R²: -0.29984626892249255\n"
     ]
    }
   ],
   "source": [
    "import pandas as pd\n",
    "from sklearn.model_selection import train_test_split\n",
    "\n",
    "# Membaca data penjualan\n",
    "df = pd.read_csv('data_penjualan.csv')\n",
    "\n",
    "# # Melihat data\n",
    "# print(df.head())\n",
    "\n",
    "'''Pembersihan Data: Mengatasi missing values, melakukan encoding variabel kategorikal, dan melakukan normalisasi atau standarisasi jika diperlukan.'''\n",
    "# Mengisi missing values hanya untuk kolom numerik\n",
    "df.select_dtypes(include=['float64', 'int64']).fillna(df.select_dtypes(include=['float64', 'int64']).mean(), inplace=True)\n",
    "\n",
    "# Melakukan encoding untuk variabel kategorikal\n",
    "df = pd.get_dummies(df, columns=['day_of_week'])\n",
    "\n",
    "'''Pembagian Data: Membagi data menjadi fitur (X) dan target (y), kemudian membagi data menjadi training dan testing set.'''\n",
    "X = df[['price', 'promotion', 'day_of_week_Monday', 'day_of_week_Tuesday', 'day_of_week_Wednesday', 'day_of_week_Thursday', 'day_of_week_Friday', 'day_of_week_Saturday']]  # Fitur\n",
    "y = df['demand']  # Target\n",
    "X_train, X_test, y_train, y_test = train_test_split(X, y, test_size=0.2, random_state=42)\n",
    "\n",
    "'''Membangun Model: Menggunakan Linear Regression untuk memprediksi permintaan.'''\n",
    "from sklearn.linear_model import LinearRegression\n",
    "model = LinearRegression()\n",
    "model.fit(X_train, y_train)\n",
    "y_pred = model.predict(X_test)\n",
    "\n",
    "'''Evaluasi Model: Mengevaluasi model menggunakan Mean Absolute Error (MAE), Mean Squared Error (MSE), atau R².'''\n",
    "from sklearn.metrics import mean_absolute_error, mean_squared_error, r2_score\n",
    "print(f'MAE: {mean_absolute_error(y_test, y_pred)}')\n",
    "print(f'MSE: {mean_squared_error(y_test, y_pred)}')\n",
    "print(f'R²: {r2_score(y_test, y_pred)}')\n"
   ]
  }
 ],
 "metadata": {
  "kernelspec": {
   "display_name": "bukusilvanus",
   "language": "python",
   "name": "python3"
  },
  "language_info": {
   "name": "python",
   "version": "3.11.11"
  }
 },
 "nbformat": 4,
 "nbformat_minor": 2
}
