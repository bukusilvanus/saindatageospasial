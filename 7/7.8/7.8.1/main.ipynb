{
 "cells": [
  {
   "cell_type": "code",
   "execution_count": 1,
   "metadata": {},
   "outputs": [],
   "source": [
    "import rasterio\n",
    "from rasterio.plot import show\n",
    "import numpy as np\n",
    "import pandas as pd\n",
    "from sklearn.ensemble import RandomForestClassifier\n",
    "from sklearn.model_selection import train_test_split\n",
    "from sklearn.metrics import classification_report\n",
    "import matplotlib.pyplot as plt\n",
    "\n",
    "# Load Sentinel-2 bands (contoh: B2, B3, B4, B8)\n",
    "band_files = {\n",
    "    \"B2\": \"D:\\DATA\\MAP DATABASE/B2.tif\", # Blue band, path didesuaikan dengan lokasi file\n",
    "    \"B3\": \" D:\\DATA\\MAP DATABASE/B3.tif\", # Green band\n",
    "    \"B4\": \" D:\\DATA\\MAP DATABASE/B4.tif\", # Red band\n",
    "    \"B8\": \" D:\\DATA\\MAP DATABASE/B8.tif\", # Near-Infrared band\n",
    "}\n",
    "bands = {}\n",
    "for band_name, file_path in band_files.items():\n",
    "    with rasterio.open(file_path) as src:\n",
    "    bands[band_name] = src.read(1)\n",
    "\n",
    "# Stack bands into a 3D array\n",
    "stacked_image = np.stack([bands[\"B2\"], bands[\"B3\"], bands[\"B4\"], bands[\"B8\"]], axis=-1)\n",
    "print(f\"Stacked image shape: {stacked_image.shape}\")"
   ]
  }
 ],
 "metadata": {
  "kernelspec": {
   "display_name": "bukusilvanus",
   "language": "python",
   "name": "python3"
  },
  "language_info": {
   "codemirror_mode": {
    "name": "ipython",
    "version": 3
   },
   "file_extension": ".py",
   "mimetype": "text/x-python",
   "name": "python",
   "nbconvert_exporter": "python",
   "pygments_lexer": "ipython3",
   "version": "3.11.11"
  }
 },
 "nbformat": 4,
 "nbformat_minor": 2
}
